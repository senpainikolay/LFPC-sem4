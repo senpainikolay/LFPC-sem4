{
 "cells": [
  {
   "cell_type": "code",
   "execution_count": 1,
   "id": "dec8d16b",
   "metadata": {},
   "outputs": [],
   "source": [
    "# Reading the Prodcution rule/ derivation rules\n",
    "Lines =  open('der.txt', 'r').readlines() \n",
    "# replacing the \\n\n",
    "for i in range (len(Lines)):\n",
    "     Lines[i] = Lines[i].replace('\\n','')"
   ]
  },
  {
   "cell_type": "code",
   "execution_count": 2,
   "id": "422dc649",
   "metadata": {},
   "outputs": [],
   "source": [
    "# Just storing the data in a tuple.\n",
    "adj_tuples = list()\n",
    "for i in range(len(Lines)): \n",
    "        adj_tuples.append(( Lines[i][0], Lines[i][2:].replace(\" \", ''), Lines[i][2:3] ))"
   ]
  },
  {
   "cell_type": "code",
   "execution_count": 3,
   "id": "66ccd41d",
   "metadata": {
    "scrolled": false
   },
   "outputs": [
    {
     "data": {
      "text/plain": [
       "[('S', 'aB', 'a'),\n",
       " ('S', 'bB', 'b'),\n",
       " ('B', 'cD', 'c'),\n",
       " ('D', 'dQ', 'd'),\n",
       " ('Q', 'bB', 'b'),\n",
       " ('D', 'a', 'a'),\n",
       " ('Q', 'dQ', 'd')]"
      ]
     },
     "execution_count": 3,
     "metadata": {},
     "output_type": "execute_result"
    }
   ],
   "source": [
    "adj_tuples"
   ]
  },
  {
   "cell_type": "code",
   "execution_count": 4,
   "id": "5a333565",
   "metadata": {},
   "outputs": [],
   "source": [
    "# Rearagin the data to contrcut the FA\n",
    "states_arr = list() \n",
    "states_dict = dict()  \n",
    "\n",
    "# Creating inique states\n",
    "for i in range(len(adj_tuples)):\n",
    "    index = True\n",
    "    for tup in states_arr:\n",
    "        if adj_tuples[i][0] == tup[0]:\n",
    "            index = False  \n",
    "    if index:\n",
    "        states_arr.append(adj_tuples[i][0])   \n",
    "\n",
    "# adding the final state as the last item. a Vt[i]\n",
    "for i in range(len(adj_tuples)):\n",
    "    if adj_tuples[i][1].islower():\n",
    "        states_arr.append(adj_tuples[i][1]) \n",
    "        \n",
    "# Each unique Vn[i] correspons to state       \n",
    "for i in range(len(states_arr)):\n",
    "    states_dict[f'{states_arr[i]}'] = f'q{i}'"
   ]
  },
  {
   "cell_type": "code",
   "execution_count": 5,
   "id": "af1128f0",
   "metadata": {},
   "outputs": [],
   "source": [
    "# Setting just one terminal state\n",
    "for i  in range(len(states_arr)):\n",
    "    if states_arr[i].islower():\n",
    "        states_arr = states_arr[:i + 1] \n",
    "        break"
   ]
  },
  {
   "cell_type": "code",
   "execution_count": 6,
   "id": "4146f5b1",
   "metadata": {
    "scrolled": true
   },
   "outputs": [
    {
     "data": {
      "text/plain": [
       "{'S': 'q0', 'B': 'q1', 'D': 'q2', 'Q': 'q3', 'a': 'q4'}"
      ]
     },
     "execution_count": 6,
     "metadata": {},
     "output_type": "execute_result"
    }
   ],
   "source": [
    "states_dict"
   ]
  },
  {
   "cell_type": "code",
   "execution_count": 7,
   "id": "8f7af303",
   "metadata": {},
   "outputs": [],
   "source": [
    "# Converting the Prodcution rule to FA's states.\n",
    "states_FA = list() \n",
    "for i in range(len(adj_tuples)): \n",
    "    # assigning the a with terminal state.\n",
    "    a =  states_dict[states_arr[-1]]\n",
    "    for x in states_arr[:-1]:\n",
    "        if x in adj_tuples[i][1]:\n",
    "            a = states_dict[x]\n",
    "            break\n",
    "    states_FA.append((states_dict[adj_tuples[i][0]],a,adj_tuples[i][2]))"
   ]
  },
  {
   "cell_type": "code",
   "execution_count": 8,
   "id": "15ceca4e",
   "metadata": {},
   "outputs": [
    {
     "data": {
      "text/plain": [
       "[('q0', 'q1', 'a'),\n",
       " ('q0', 'q1', 'b'),\n",
       " ('q1', 'q2', 'c'),\n",
       " ('q2', 'q3', 'd'),\n",
       " ('q3', 'q1', 'b'),\n",
       " ('q2', 'q4', 'a'),\n",
       " ('q3', 'q3', 'd')]"
      ]
     },
     "execution_count": 8,
     "metadata": {},
     "output_type": "execute_result"
    }
   ],
   "source": [
    "states_FA"
   ]
  },
  {
   "cell_type": "code",
   "execution_count": 16,
   "id": "65cfbb25",
   "metadata": {
    "scrolled": false
   },
   "outputs": [
    {
     "data": {
      "image/png": "[encoded data removed]",
      "text/plain": [
       "<Figure size 1440x720 with 1 Axes>"
      ]
     },
     "metadata": {},
     "output_type": "display_data"
    }
   ],
   "source": [
    "import networkx as nx\n",
    "import matplotlib.pyplot as plt  \n",
    "\n",
    "G = nx.DiGraph()  \n",
    "edges = list() \n",
    "labels = dict() \n",
    "\n",
    "for x in states_FA: \n",
    "    # edges tuple[0][1]\n",
    "    edges.append((x[0],x[1]))  \n",
    "    # if a tuple[i][j] exist alread, it just updates it.\n",
    "    if (x[0],x[1]) in labels.keys():\n",
    "        labels[(x[0],x[1])] = labels[(x[0],x[1])] + \",\" + x[2] \n",
    "    #else it would assign the Vt[i]\n",
    "    else:\n",
    "        labels[(x[0],x[1])] = x[2] \n",
    "        \n",
    "    \n",
    "\n",
    "G.add_edges_from(edges)\n",
    "# Need to create a layout when doing\n",
    "# separate calls to draw nodes and edges\n",
    "pos = nx.spring_layout(G) \n",
    "\n",
    "\n",
    "nx.draw_networkx_nodes(G, pos, cmap=plt.get_cmap('jet'), \n",
    "                       node_color = 'yellow', node_size = 500)  \n",
    "\n",
    "\n",
    "\n",
    "\n",
    "nx.draw_networkx_edge_labels(G,pos,edge_labels=labels,font_size=15)  \n",
    "\n",
    "\n",
    "\n",
    "\n",
    "nx.draw_networkx_labels(G, pos) \n",
    "\n",
    "nx.draw_networkx_edges(G, pos, edgelist=G.edges(), edge_color='r', arrows=True)    \n",
    "\n",
    "\n",
    "\n",
    "plt.rcParams[\"figure.figsize\"] = (20,10)\n",
    "plt.title('FA')\n",
    "plt.show()  "
   ]
  },
  {
   "cell_type": "markdown",
   "id": "f1d0aee3",
   "metadata": {},
   "source": [
    "# Q3 = self-loop with Vt = d.\n",
    "# Q4 = final state"
   ]
  },
  {
   "cell_type": "code",
   "execution_count": 10,
   "id": "e8efdb48",
   "metadata": {},
   "outputs": [
    {
     "data": {
      "text/plain": [
       "[('q0', 'q1', 'a'),\n",
       " ('q0', 'q1', 'b'),\n",
       " ('q1', 'q2', 'c'),\n",
       " ('q2', 'q3', 'd'),\n",
       " ('q3', 'q1', 'b'),\n",
       " ('q2', 'q4', 'a'),\n",
       " ('q3', 'q3', 'd')]"
      ]
     },
     "execution_count": 10,
     "metadata": {},
     "output_type": "execute_result"
    }
   ],
   "source": [
    "states_FA"
   ]
  },
  {
   "cell_type": "code",
   "execution_count": 11,
   "id": "b7dfa7f3",
   "metadata": {},
   "outputs": [],
   "source": [
    "def parse_check(s):\n",
    "    index = 0\n",
    "    state_now = 0\n",
    "    while index < len(s):\n",
    "        possible_ways = list() \n",
    "        \n",
    "        for tup in states_FA:\n",
    "            if f'q{state_now}' == tup[0]:\n",
    "                possible_ways.append((tup[1],tup[2])) \n",
    "                \n",
    "        if len(possible_ways) == 0:\n",
    "            return 'Rejected'\n",
    "        else:\n",
    "            for elem in possible_ways:\n",
    "                if s[index]  == elem[1]:\n",
    "                    index +=1 \n",
    "                    state_now = int(elem[0][1]) \n",
    "                    break\n",
    "\n",
    "    return 'Accepted'\n",
    "        "
   ]
  },
  {
   "cell_type": "code",
   "execution_count": 18,
   "id": "a78bdcd7",
   "metadata": {
    "scrolled": false
   },
   "outputs": [
    {
     "name": "stdout",
     "output_type": "stream",
     "text": [
      "bcdbca\n"
     ]
    }
   ],
   "source": [
    "s = input()"
   ]
  },
  {
   "cell_type": "code",
   "execution_count": 19,
   "id": "cc5f34cd",
   "metadata": {},
   "outputs": [
    {
     "name": "stdout",
     "output_type": "stream",
     "text": [
      "Accecpted\n"
     ]
    }
   ],
   "source": [
    "result = parse_check(s)\n",
    "print(result)"
   ]
  }
 ],
 "metadata": {
  "kernelspec": {
   "display_name": "Python 3 (ipykernel)",
   "language": "python",
   "name": "python3"
  },
  "language_info": {
   "codemirror_mode": {
    "name": "ipython",
    "version": 3
   },
   "file_extension": ".py",
   "mimetype": "text/x-python",
   "name": "python",
   "nbconvert_exporter": "python",
   "pygments_lexer": "ipython3",
   "version": "3.7.9"
  }
 },
 "nbformat": 4,
 "nbformat_minor": 5
}
